{
 "cells": [
  {
   "cell_type": "markdown",
   "metadata": {},
   "source": [
    "## Library"
   ]
  },
  {
   "cell_type": "code",
   "execution_count": 1,
   "metadata": {},
   "outputs": [],
   "source": [
    "import pandas as pd\n",
    "import numpy as np\n",
    "import re"
   ]
  },
  {
   "cell_type": "markdown",
   "metadata": {},
   "source": [
    "## Getting Data"
   ]
  },
  {
   "cell_type": "code",
   "execution_count": 2,
   "metadata": {},
   "outputs": [],
   "source": [
    "import os \n",
    "\n",
    "path = os.path.join(os.getcwd(),'Data/training_data.csv')\n",
    "col_names = ['target','ids','date','flag','user','text']\n",
    "\n",
    "df = pd.read_csv(path)"
   ]
  },
  {
   "cell_type": "code",
   "execution_count": 3,
   "metadata": {},
   "outputs": [],
   "source": [
    "df.columns = ['target','ids','date','flag','user','text']"
   ]
  },
  {
   "cell_type": "code",
   "execution_count": 4,
   "metadata": {},
   "outputs": [],
   "source": [
    "# Data for Detection\n",
    "data = df[['target','text']]"
   ]
  },
  {
   "cell_type": "code",
   "execution_count": 24,
   "metadata": {},
   "outputs": [
    {
     "name": "stderr",
     "output_type": "stream",
     "text": [
      "/tmp/ipykernel_27412/40761610.py:8: SettingWithCopyWarning: \n",
      "A value is trying to be set on a copy of a slice from a DataFrame.\n",
      "Try using .loc[row_indexer,col_indexer] = value instead\n",
      "\n",
      "See the caveats in the documentation: https://pandas.pydata.org/pandas-docs/stable/user_guide/indexing.html#returning-a-view-versus-a-copy\n",
      "  data['text'] = data['text'].astype(str).apply(clean_text)\n"
     ]
    }
   ],
   "source": [
    "def clean_text(text):\n",
    "    text = text.lower().strip()\n",
    "    text = re.sub(r\"http\\S+|www\\S+\", \"\", text)  # Xóa URL\n",
    "    text = re.sub(r'[^a-zA-Z\\s]', \" \", text)   # Chỉ giữ chữ cái và khoảng trắng\n",
    "    text = \" \".join(text.split())  # Chuẩn hóa khoảng trắng\n",
    "    return text\n",
    "\n",
    "data['text'] = data['text'].astype(str).apply(clean_text)"
   ]
  },
  {
   "cell_type": "markdown",
   "metadata": {},
   "source": [
    "## Detection"
   ]
  },
  {
   "cell_type": "code",
   "execution_count": 25,
   "metadata": {},
   "outputs": [],
   "source": [
    "from sklearn.model_selection import train_test_split\n",
    "from sklearn.feature_extraction.text import TfidfVectorizer\n",
    "from sklearn.metrics import accuracy_score \n"
   ]
  },
  {
   "cell_type": "code",
   "execution_count": 26,
   "metadata": {},
   "outputs": [],
   "source": [
    "x = data['text'].values\n",
    "y = data['target'].values"
   ]
  },
  {
   "cell_type": "code",
   "execution_count": 27,
   "metadata": {},
   "outputs": [],
   "source": [
    "x_train, x_test, y_train, y_test = train_test_split(x,y, test_size = 0.2, random_state = 19)\n",
    "vectorizer = TfidfVectorizer(stop_words = 'english')\n",
    "x_train = vectorizer.fit_transform(x_train)\n",
    "x_test = vectorizer.transform(x_test)"
   ]
  },
  {
   "cell_type": "code",
   "execution_count": 16,
   "metadata": {},
   "outputs": [],
   "source": [
    "from sklearn.linear_model import LogisticRegression      # Logistic Regression\n",
    "from sklearn.naive_bayes import MultinomialNB # Naive Bayes"
   ]
  },
  {
   "cell_type": "code",
   "execution_count": null,
   "metadata": {},
   "outputs": [],
   "source": [
    "models = {\n",
    "    'lr_model' : LogisticRegression(max_iter = 1000),\n",
    "    'nv_model' : MultinomialNB(),\n",
    "}\n",
    "\n",
    "def train_and_evaluate_models(models, x_train, y_train, x_test, y_test):\n",
    "    results = {}  # Lưu kết quả đánh giá\n",
    "    \n",
    "    for name, model in models.items():\n",
    "        print(f\"\\nTraining model: {name} ...\")\n",
    "        \n",
    "        model.fit(x_train, y_train)\n",
    "        y_pred = model.predict(x_test)\n",
    "        acc = accuracy_score(y_test, y_pred)\n",
    "        \n",
    "        print(f\"Accuracy for {name}: {acc:.4f}\")\n",
    "        results[name] = {\"accuracy\": acc}\n",
    "    \n",
    "    return results"
   ]
  },
  {
   "cell_type": "code",
   "execution_count": 29,
   "metadata": {},
   "outputs": [
    {
     "name": "stdout",
     "output_type": "stream",
     "text": [
      "\n",
      "Training model: lr_model ...\n",
      "Accuracy for lr_model: 0.7808\n",
      "\n",
      "Training model: nv_model ...\n",
      "Accuracy for nv_model: 0.7612\n"
     ]
    }
   ],
   "source": [
    "results = train_and_evaluate_models(models, x_train, y_train, x_test, y_test)"
   ]
  },
  {
   "cell_type": "code",
   "execution_count": 36,
   "metadata": {},
   "outputs": [],
   "source": [
    "def Sentiment(text):\n",
    "    text = vectorizer.transform([text])\n",
    "    model = LogisticRegression(max_iter= 1000)\n",
    "    model.fit(x_train,y_train)\n",
    "    pre = model.predict(text)\n",
    "\n",
    "    return \"Possitive\" if pre[0] == 0 else \"Negative\""
   ]
  },
  {
   "cell_type": "code",
   "execution_count": 38,
   "metadata": {},
   "outputs": [
    {
     "name": "stdout",
     "output_type": "stream",
     "text": [
      "Possitive\n"
     ]
    }
   ],
   "source": [
    "text = input(\"Nhap van ban: \")\n",
    "print(Sentiment(text))"
   ]
  }
 ],
 "metadata": {
  "kernelspec": {
   "display_name": "Python 3",
   "language": "python",
   "name": "python3"
  },
  "language_info": {
   "codemirror_mode": {
    "name": "ipython",
    "version": 3
   },
   "file_extension": ".py",
   "mimetype": "text/x-python",
   "name": "python",
   "nbconvert_exporter": "python",
   "pygments_lexer": "ipython3",
   "version": "3.12.1"
  }
 },
 "nbformat": 4,
 "nbformat_minor": 2
}
